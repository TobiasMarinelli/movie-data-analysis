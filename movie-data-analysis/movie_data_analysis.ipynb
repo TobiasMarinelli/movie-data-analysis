{
 "cells": [
  {
   "cell_type": "markdown",
   "id": "3fefb3be",
   "metadata": {},
   "source": [
    "# 🎬 Movie Data Analysis\n",
    "\n",
    "This project explores a dataset of movies to uncover trends in genres, ratings, revenue, and other factors.\n",
    "\n",
    "**Objectives:**\n",
    "- Identify the most common genres\n",
    "- Analyze the relationship between budget and revenue\n",
    "- Explore top-rated and high-grossing films\n",
    "- Understand average runtime of successful movies"
   ]
  },
  {
   "cell_type": "code",
   "execution_count": null,
   "id": "31ffc7ab",
   "metadata": {},
   "outputs": [],
   "source": [
    "import pandas as pd\n",
    "import matplotlib.pyplot as plt\n",
    "import seaborn as sns\n",
    "import numpy as np\n",
    "\n",
    "# Plotting style\n",
    "sns.set(style='whitegrid')\n",
    "%matplotlib inline"
   ]
  },
  {
   "cell_type": "markdown",
   "id": "c15fc9ef",
   "metadata": {},
   "source": [
    "## 📥 Load the dataset"
   ]
  },
  {
   "cell_type": "code",
   "execution_count": null,
   "id": "c444c14a",
   "metadata": {},
   "outputs": [],
   "source": [
    "# Load the dataset (adjust the path if needed)\n",
    "df = pd.read_csv('data/tmdb-movies.csv')\n",
    "df.head()"
   ]
  },
  {
   "cell_type": "markdown",
   "id": "785c0499",
   "metadata": {},
   "source": [
    "## 🧹 Data Cleaning"
   ]
  },
  {
   "cell_type": "code",
   "execution_count": null,
   "id": "4be23e95",
   "metadata": {},
   "outputs": [],
   "source": [
    "# Check for missing values and duplicates\n",
    "df.info()\n",
    "df.duplicated().sum()"
   ]
  },
  {
   "cell_type": "markdown",
   "id": "76c9576f",
   "metadata": {},
   "source": [
    "## 📊 Exploratory Data Analysis"
   ]
  },
  {
   "cell_type": "code",
   "execution_count": null,
   "id": "fa52ba61",
   "metadata": {},
   "outputs": [],
   "source": [
    "# Most common genres (simplified by splitting)\n",
    "df['genres'] = df['genres'].fillna('')\n",
    "from collections import Counter\n",
    "genre_counts = Counter()\n",
    "for genres in df['genres']:\n",
    "    genre_list = genres.split('|')\n",
    "    genre_counts.update(genre_list)\n",
    "\n",
    "genre_df = pd.DataFrame(genre_counts.items(), columns=['Genre', 'Count'])\n",
    "genre_df = genre_df.sort_values(by='Count', ascending=False)\n",
    "sns.barplot(x='Count', y='Genre', data=genre_df.head(10))\n",
    "plt.title('Top 10 Most Common Genres')\n",
    "plt.show()"
   ]
  },
  {
   "cell_type": "code",
   "execution_count": null,
   "id": "124ebaf3",
   "metadata": {},
   "outputs": [],
   "source": [
    "# Budget vs Revenue\n",
    "df_clean = df[(df['budget'] > 0) & (df['revenue'] > 0)]\n",
    "sns.scatterplot(x='budget', y='revenue', data=df_clean)\n",
    "plt.title('Budget vs Revenue')\n",
    "plt.xlabel('Budget')\n",
    "plt.ylabel('Revenue')\n",
    "plt.show()"
   ]
  },
  {
   "cell_type": "code",
   "execution_count": null,
   "id": "86a2ef08",
   "metadata": {},
   "outputs": [],
   "source": [
    "# Top rated movies\n",
    "top_rated = df[['original_title', 'vote_average']].sort_values(by='vote_average', ascending=False).head(10)\n",
    "top_rated"
   ]
  },
  {
   "cell_type": "code",
   "execution_count": null,
   "id": "e19effe6",
   "metadata": {},
   "outputs": [],
   "source": [
    "# Average runtime of top grossing movies\n",
    "top_grossing = df.sort_values(by='revenue', ascending=False).head(50)\n",
    "avg_runtime = top_grossing['runtime'].mean()\n",
    "avg_runtime"
   ]
  },
  {
   "cell_type": "markdown",
   "id": "5bcc005f",
   "metadata": {},
   "source": [
    "## 🧠 Conclusions\n",
    "\n",
    "- The most common genres include Drama, Comedy, and Action.\n",
    "- There is a positive correlation between budget and revenue, though with some outliers.\n",
    "- Top-rated movies often differ from top-grossing ones.\n",
    "- The average runtime of successful films is around 110-120 minutes.\n",
    "\n",
    "_This analysis is a beginner-level project as part of my data analytics journey._"
   ]
  }
 ],
 "metadata": {},
 "nbformat": 4,
 "nbformat_minor": 5
}
